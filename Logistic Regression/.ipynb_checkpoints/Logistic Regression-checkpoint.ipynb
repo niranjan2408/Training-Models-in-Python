{
 "cells": [
  {
   "cell_type": "markdown",
   "metadata": {},
   "source": [
    "# Checking Current Working Directory"
   ]
  },
  {
   "cell_type": "code",
   "execution_count": 1,
   "metadata": {},
   "outputs": [],
   "source": [
    "import os "
   ]
  },
  {
   "cell_type": "code",
   "execution_count": 2,
   "metadata": {},
   "outputs": [
    {
     "data": {
      "text/plain": [
       "'C:\\\\Users\\\\NIRANJAN\\\\Documents\\\\GitHub\\\\Training-Models-in-Python\\\\Logistic Regression'"
      ]
     },
     "execution_count": 2,
     "metadata": {},
     "output_type": "execute_result"
    }
   ],
   "source": [
    "os.getcwd()"
   ]
  },
  {
   "cell_type": "markdown",
   "metadata": {},
   "source": [
    "# Importing Required Libraries"
   ]
  },
  {
   "cell_type": "code",
   "execution_count": 3,
   "metadata": {},
   "outputs": [],
   "source": [
    "import pandas as pd \n",
    "import seaborn as sns \n",
    "import matplotlib.pyplot as plt \n",
    "%matplotlib inline"
   ]
  },
  {
   "cell_type": "markdown",
   "metadata": {},
   "source": [
    "# Importing File"
   ]
  },
  {
   "cell_type": "code",
   "execution_count": 4,
   "metadata": {},
   "outputs": [],
   "source": [
    "bank_org = pd.read_csv(\"bank-full.csv\")"
   ]
  },
  {
   "cell_type": "code",
   "execution_count": 5,
   "metadata": {},
   "outputs": [],
   "source": [
    "bank = bank_org"
   ]
  },
  {
   "cell_type": "markdown",
   "metadata": {},
   "source": [
    "# Performing EDA"
   ]
  },
  {
   "cell_type": "code",
   "execution_count": 6,
   "metadata": {},
   "outputs": [
    {
     "data": {
      "text/html": [
       "<div>\n",
       "<style scoped>\n",
       "    .dataframe tbody tr th:only-of-type {\n",
       "        vertical-align: middle;\n",
       "    }\n",
       "\n",
       "    .dataframe tbody tr th {\n",
       "        vertical-align: top;\n",
       "    }\n",
       "\n",
       "    .dataframe thead th {\n",
       "        text-align: right;\n",
       "    }\n",
       "</style>\n",
       "<table border=\"1\" class=\"dataframe\">\n",
       "  <thead>\n",
       "    <tr style=\"text-align: right;\">\n",
       "      <th></th>\n",
       "      <th>age</th>\n",
       "      <th>job</th>\n",
       "      <th>marital</th>\n",
       "      <th>education</th>\n",
       "      <th>default</th>\n",
       "      <th>balance</th>\n",
       "      <th>housing</th>\n",
       "      <th>loan</th>\n",
       "      <th>contact</th>\n",
       "      <th>day</th>\n",
       "      <th>month</th>\n",
       "      <th>duration</th>\n",
       "      <th>campaign</th>\n",
       "      <th>pdays</th>\n",
       "      <th>previous</th>\n",
       "      <th>poutcome</th>\n",
       "      <th>y</th>\n",
       "    </tr>\n",
       "  </thead>\n",
       "  <tbody>\n",
       "    <tr>\n",
       "      <th>0</th>\n",
       "      <td>58</td>\n",
       "      <td>management</td>\n",
       "      <td>married</td>\n",
       "      <td>tertiary</td>\n",
       "      <td>no</td>\n",
       "      <td>2143</td>\n",
       "      <td>yes</td>\n",
       "      <td>no</td>\n",
       "      <td>unknown</td>\n",
       "      <td>5</td>\n",
       "      <td>may</td>\n",
       "      <td>261</td>\n",
       "      <td>1</td>\n",
       "      <td>-1</td>\n",
       "      <td>0</td>\n",
       "      <td>unknown</td>\n",
       "      <td>no</td>\n",
       "    </tr>\n",
       "    <tr>\n",
       "      <th>1</th>\n",
       "      <td>44</td>\n",
       "      <td>technician</td>\n",
       "      <td>single</td>\n",
       "      <td>secondary</td>\n",
       "      <td>no</td>\n",
       "      <td>29</td>\n",
       "      <td>yes</td>\n",
       "      <td>no</td>\n",
       "      <td>unknown</td>\n",
       "      <td>5</td>\n",
       "      <td>may</td>\n",
       "      <td>151</td>\n",
       "      <td>1</td>\n",
       "      <td>-1</td>\n",
       "      <td>0</td>\n",
       "      <td>unknown</td>\n",
       "      <td>no</td>\n",
       "    </tr>\n",
       "    <tr>\n",
       "      <th>2</th>\n",
       "      <td>33</td>\n",
       "      <td>entrepreneur</td>\n",
       "      <td>married</td>\n",
       "      <td>secondary</td>\n",
       "      <td>no</td>\n",
       "      <td>2</td>\n",
       "      <td>yes</td>\n",
       "      <td>yes</td>\n",
       "      <td>unknown</td>\n",
       "      <td>5</td>\n",
       "      <td>may</td>\n",
       "      <td>76</td>\n",
       "      <td>1</td>\n",
       "      <td>-1</td>\n",
       "      <td>0</td>\n",
       "      <td>unknown</td>\n",
       "      <td>no</td>\n",
       "    </tr>\n",
       "    <tr>\n",
       "      <th>3</th>\n",
       "      <td>47</td>\n",
       "      <td>blue-collar</td>\n",
       "      <td>married</td>\n",
       "      <td>unknown</td>\n",
       "      <td>no</td>\n",
       "      <td>1506</td>\n",
       "      <td>yes</td>\n",
       "      <td>no</td>\n",
       "      <td>unknown</td>\n",
       "      <td>5</td>\n",
       "      <td>may</td>\n",
       "      <td>92</td>\n",
       "      <td>1</td>\n",
       "      <td>-1</td>\n",
       "      <td>0</td>\n",
       "      <td>unknown</td>\n",
       "      <td>no</td>\n",
       "    </tr>\n",
       "    <tr>\n",
       "      <th>4</th>\n",
       "      <td>33</td>\n",
       "      <td>unknown</td>\n",
       "      <td>single</td>\n",
       "      <td>unknown</td>\n",
       "      <td>no</td>\n",
       "      <td>1</td>\n",
       "      <td>no</td>\n",
       "      <td>no</td>\n",
       "      <td>unknown</td>\n",
       "      <td>5</td>\n",
       "      <td>may</td>\n",
       "      <td>198</td>\n",
       "      <td>1</td>\n",
       "      <td>-1</td>\n",
       "      <td>0</td>\n",
       "      <td>unknown</td>\n",
       "      <td>no</td>\n",
       "    </tr>\n",
       "  </tbody>\n",
       "</table>\n",
       "</div>"
      ],
      "text/plain": [
       "   age           job  marital  education default  balance housing loan  \\\n",
       "0   58    management  married   tertiary      no     2143     yes   no   \n",
       "1   44    technician   single  secondary      no       29     yes   no   \n",
       "2   33  entrepreneur  married  secondary      no        2     yes  yes   \n",
       "3   47   blue-collar  married    unknown      no     1506     yes   no   \n",
       "4   33       unknown   single    unknown      no        1      no   no   \n",
       "\n",
       "   contact  day month  duration  campaign  pdays  previous poutcome   y  \n",
       "0  unknown    5   may       261         1     -1         0  unknown  no  \n",
       "1  unknown    5   may       151         1     -1         0  unknown  no  \n",
       "2  unknown    5   may        76         1     -1         0  unknown  no  \n",
       "3  unknown    5   may        92         1     -1         0  unknown  no  \n",
       "4  unknown    5   may       198         1     -1         0  unknown  no  "
      ]
     },
     "execution_count": 6,
     "metadata": {},
     "output_type": "execute_result"
    }
   ],
   "source": [
    "bank.head()"
   ]
  },
  {
   "cell_type": "code",
   "execution_count": 7,
   "metadata": {},
   "outputs": [
    {
     "data": {
      "text/html": [
       "<div>\n",
       "<style scoped>\n",
       "    .dataframe tbody tr th:only-of-type {\n",
       "        vertical-align: middle;\n",
       "    }\n",
       "\n",
       "    .dataframe tbody tr th {\n",
       "        vertical-align: top;\n",
       "    }\n",
       "\n",
       "    .dataframe thead th {\n",
       "        text-align: right;\n",
       "    }\n",
       "</style>\n",
       "<table border=\"1\" class=\"dataframe\">\n",
       "  <thead>\n",
       "    <tr style=\"text-align: right;\">\n",
       "      <th></th>\n",
       "      <th>age</th>\n",
       "      <th>job</th>\n",
       "      <th>marital</th>\n",
       "      <th>education</th>\n",
       "      <th>default</th>\n",
       "      <th>balance</th>\n",
       "      <th>housing</th>\n",
       "      <th>loan</th>\n",
       "      <th>contact</th>\n",
       "      <th>day</th>\n",
       "      <th>month</th>\n",
       "      <th>duration</th>\n",
       "      <th>campaign</th>\n",
       "      <th>pdays</th>\n",
       "      <th>previous</th>\n",
       "      <th>poutcome</th>\n",
       "      <th>y</th>\n",
       "    </tr>\n",
       "  </thead>\n",
       "  <tbody>\n",
       "    <tr>\n",
       "      <th>45206</th>\n",
       "      <td>51</td>\n",
       "      <td>technician</td>\n",
       "      <td>married</td>\n",
       "      <td>tertiary</td>\n",
       "      <td>no</td>\n",
       "      <td>825</td>\n",
       "      <td>no</td>\n",
       "      <td>no</td>\n",
       "      <td>cellular</td>\n",
       "      <td>17</td>\n",
       "      <td>nov</td>\n",
       "      <td>977</td>\n",
       "      <td>3</td>\n",
       "      <td>-1</td>\n",
       "      <td>0</td>\n",
       "      <td>unknown</td>\n",
       "      <td>yes</td>\n",
       "    </tr>\n",
       "    <tr>\n",
       "      <th>45207</th>\n",
       "      <td>71</td>\n",
       "      <td>retired</td>\n",
       "      <td>divorced</td>\n",
       "      <td>primary</td>\n",
       "      <td>no</td>\n",
       "      <td>1729</td>\n",
       "      <td>no</td>\n",
       "      <td>no</td>\n",
       "      <td>cellular</td>\n",
       "      <td>17</td>\n",
       "      <td>nov</td>\n",
       "      <td>456</td>\n",
       "      <td>2</td>\n",
       "      <td>-1</td>\n",
       "      <td>0</td>\n",
       "      <td>unknown</td>\n",
       "      <td>yes</td>\n",
       "    </tr>\n",
       "    <tr>\n",
       "      <th>45208</th>\n",
       "      <td>72</td>\n",
       "      <td>retired</td>\n",
       "      <td>married</td>\n",
       "      <td>secondary</td>\n",
       "      <td>no</td>\n",
       "      <td>5715</td>\n",
       "      <td>no</td>\n",
       "      <td>no</td>\n",
       "      <td>cellular</td>\n",
       "      <td>17</td>\n",
       "      <td>nov</td>\n",
       "      <td>1127</td>\n",
       "      <td>5</td>\n",
       "      <td>184</td>\n",
       "      <td>3</td>\n",
       "      <td>success</td>\n",
       "      <td>yes</td>\n",
       "    </tr>\n",
       "    <tr>\n",
       "      <th>45209</th>\n",
       "      <td>57</td>\n",
       "      <td>blue-collar</td>\n",
       "      <td>married</td>\n",
       "      <td>secondary</td>\n",
       "      <td>no</td>\n",
       "      <td>668</td>\n",
       "      <td>no</td>\n",
       "      <td>no</td>\n",
       "      <td>telephone</td>\n",
       "      <td>17</td>\n",
       "      <td>nov</td>\n",
       "      <td>508</td>\n",
       "      <td>4</td>\n",
       "      <td>-1</td>\n",
       "      <td>0</td>\n",
       "      <td>unknown</td>\n",
       "      <td>no</td>\n",
       "    </tr>\n",
       "    <tr>\n",
       "      <th>45210</th>\n",
       "      <td>37</td>\n",
       "      <td>entrepreneur</td>\n",
       "      <td>married</td>\n",
       "      <td>secondary</td>\n",
       "      <td>no</td>\n",
       "      <td>2971</td>\n",
       "      <td>no</td>\n",
       "      <td>no</td>\n",
       "      <td>cellular</td>\n",
       "      <td>17</td>\n",
       "      <td>nov</td>\n",
       "      <td>361</td>\n",
       "      <td>2</td>\n",
       "      <td>188</td>\n",
       "      <td>11</td>\n",
       "      <td>other</td>\n",
       "      <td>no</td>\n",
       "    </tr>\n",
       "  </tbody>\n",
       "</table>\n",
       "</div>"
      ],
      "text/plain": [
       "       age           job   marital  education default  balance housing loan  \\\n",
       "45206   51    technician   married   tertiary      no      825      no   no   \n",
       "45207   71       retired  divorced    primary      no     1729      no   no   \n",
       "45208   72       retired   married  secondary      no     5715      no   no   \n",
       "45209   57   blue-collar   married  secondary      no      668      no   no   \n",
       "45210   37  entrepreneur   married  secondary      no     2971      no   no   \n",
       "\n",
       "         contact  day month  duration  campaign  pdays  previous poutcome    y  \n",
       "45206   cellular   17   nov       977         3     -1         0  unknown  yes  \n",
       "45207   cellular   17   nov       456         2     -1         0  unknown  yes  \n",
       "45208   cellular   17   nov      1127         5    184         3  success  yes  \n",
       "45209  telephone   17   nov       508         4     -1         0  unknown   no  \n",
       "45210   cellular   17   nov       361         2    188        11    other   no  "
      ]
     },
     "execution_count": 7,
     "metadata": {},
     "output_type": "execute_result"
    }
   ],
   "source": [
    "bank.tail()"
   ]
  },
  {
   "cell_type": "code",
   "execution_count": 8,
   "metadata": {},
   "outputs": [
    {
     "data": {
      "text/html": [
       "<div>\n",
       "<style scoped>\n",
       "    .dataframe tbody tr th:only-of-type {\n",
       "        vertical-align: middle;\n",
       "    }\n",
       "\n",
       "    .dataframe tbody tr th {\n",
       "        vertical-align: top;\n",
       "    }\n",
       "\n",
       "    .dataframe thead th {\n",
       "        text-align: right;\n",
       "    }\n",
       "</style>\n",
       "<table border=\"1\" class=\"dataframe\">\n",
       "  <thead>\n",
       "    <tr style=\"text-align: right;\">\n",
       "      <th></th>\n",
       "      <th>age</th>\n",
       "      <th>job</th>\n",
       "      <th>marital</th>\n",
       "      <th>education</th>\n",
       "      <th>default</th>\n",
       "      <th>balance</th>\n",
       "      <th>housing</th>\n",
       "      <th>loan</th>\n",
       "      <th>contact</th>\n",
       "      <th>day</th>\n",
       "      <th>month</th>\n",
       "      <th>duration</th>\n",
       "      <th>campaign</th>\n",
       "      <th>pdays</th>\n",
       "      <th>previous</th>\n",
       "      <th>poutcome</th>\n",
       "      <th>y</th>\n",
       "    </tr>\n",
       "  </thead>\n",
       "  <tbody>\n",
       "    <tr>\n",
       "      <th>count</th>\n",
       "      <td>45211.000000</td>\n",
       "      <td>45211</td>\n",
       "      <td>45211</td>\n",
       "      <td>45211</td>\n",
       "      <td>45211</td>\n",
       "      <td>45211.000000</td>\n",
       "      <td>45211</td>\n",
       "      <td>45211</td>\n",
       "      <td>45211</td>\n",
       "      <td>45211.000000</td>\n",
       "      <td>45211</td>\n",
       "      <td>45211.000000</td>\n",
       "      <td>45211.000000</td>\n",
       "      <td>45211.000000</td>\n",
       "      <td>45211.000000</td>\n",
       "      <td>45211</td>\n",
       "      <td>45211</td>\n",
       "    </tr>\n",
       "    <tr>\n",
       "      <th>unique</th>\n",
       "      <td>NaN</td>\n",
       "      <td>12</td>\n",
       "      <td>3</td>\n",
       "      <td>4</td>\n",
       "      <td>2</td>\n",
       "      <td>NaN</td>\n",
       "      <td>2</td>\n",
       "      <td>2</td>\n",
       "      <td>3</td>\n",
       "      <td>NaN</td>\n",
       "      <td>12</td>\n",
       "      <td>NaN</td>\n",
       "      <td>NaN</td>\n",
       "      <td>NaN</td>\n",
       "      <td>NaN</td>\n",
       "      <td>4</td>\n",
       "      <td>2</td>\n",
       "    </tr>\n",
       "    <tr>\n",
       "      <th>top</th>\n",
       "      <td>NaN</td>\n",
       "      <td>blue-collar</td>\n",
       "      <td>married</td>\n",
       "      <td>secondary</td>\n",
       "      <td>no</td>\n",
       "      <td>NaN</td>\n",
       "      <td>yes</td>\n",
       "      <td>no</td>\n",
       "      <td>cellular</td>\n",
       "      <td>NaN</td>\n",
       "      <td>may</td>\n",
       "      <td>NaN</td>\n",
       "      <td>NaN</td>\n",
       "      <td>NaN</td>\n",
       "      <td>NaN</td>\n",
       "      <td>unknown</td>\n",
       "      <td>no</td>\n",
       "    </tr>\n",
       "    <tr>\n",
       "      <th>freq</th>\n",
       "      <td>NaN</td>\n",
       "      <td>9732</td>\n",
       "      <td>27214</td>\n",
       "      <td>23202</td>\n",
       "      <td>44396</td>\n",
       "      <td>NaN</td>\n",
       "      <td>25130</td>\n",
       "      <td>37967</td>\n",
       "      <td>29285</td>\n",
       "      <td>NaN</td>\n",
       "      <td>13766</td>\n",
       "      <td>NaN</td>\n",
       "      <td>NaN</td>\n",
       "      <td>NaN</td>\n",
       "      <td>NaN</td>\n",
       "      <td>36959</td>\n",
       "      <td>39922</td>\n",
       "    </tr>\n",
       "    <tr>\n",
       "      <th>mean</th>\n",
       "      <td>40.936210</td>\n",
       "      <td>NaN</td>\n",
       "      <td>NaN</td>\n",
       "      <td>NaN</td>\n",
       "      <td>NaN</td>\n",
       "      <td>1362.272058</td>\n",
       "      <td>NaN</td>\n",
       "      <td>NaN</td>\n",
       "      <td>NaN</td>\n",
       "      <td>15.806419</td>\n",
       "      <td>NaN</td>\n",
       "      <td>258.163080</td>\n",
       "      <td>2.763841</td>\n",
       "      <td>40.197828</td>\n",
       "      <td>0.580323</td>\n",
       "      <td>NaN</td>\n",
       "      <td>NaN</td>\n",
       "    </tr>\n",
       "    <tr>\n",
       "      <th>std</th>\n",
       "      <td>10.618762</td>\n",
       "      <td>NaN</td>\n",
       "      <td>NaN</td>\n",
       "      <td>NaN</td>\n",
       "      <td>NaN</td>\n",
       "      <td>3044.765829</td>\n",
       "      <td>NaN</td>\n",
       "      <td>NaN</td>\n",
       "      <td>NaN</td>\n",
       "      <td>8.322476</td>\n",
       "      <td>NaN</td>\n",
       "      <td>257.527812</td>\n",
       "      <td>3.098021</td>\n",
       "      <td>100.128746</td>\n",
       "      <td>2.303441</td>\n",
       "      <td>NaN</td>\n",
       "      <td>NaN</td>\n",
       "    </tr>\n",
       "    <tr>\n",
       "      <th>min</th>\n",
       "      <td>18.000000</td>\n",
       "      <td>NaN</td>\n",
       "      <td>NaN</td>\n",
       "      <td>NaN</td>\n",
       "      <td>NaN</td>\n",
       "      <td>-8019.000000</td>\n",
       "      <td>NaN</td>\n",
       "      <td>NaN</td>\n",
       "      <td>NaN</td>\n",
       "      <td>1.000000</td>\n",
       "      <td>NaN</td>\n",
       "      <td>0.000000</td>\n",
       "      <td>1.000000</td>\n",
       "      <td>-1.000000</td>\n",
       "      <td>0.000000</td>\n",
       "      <td>NaN</td>\n",
       "      <td>NaN</td>\n",
       "    </tr>\n",
       "    <tr>\n",
       "      <th>25%</th>\n",
       "      <td>33.000000</td>\n",
       "      <td>NaN</td>\n",
       "      <td>NaN</td>\n",
       "      <td>NaN</td>\n",
       "      <td>NaN</td>\n",
       "      <td>72.000000</td>\n",
       "      <td>NaN</td>\n",
       "      <td>NaN</td>\n",
       "      <td>NaN</td>\n",
       "      <td>8.000000</td>\n",
       "      <td>NaN</td>\n",
       "      <td>103.000000</td>\n",
       "      <td>1.000000</td>\n",
       "      <td>-1.000000</td>\n",
       "      <td>0.000000</td>\n",
       "      <td>NaN</td>\n",
       "      <td>NaN</td>\n",
       "    </tr>\n",
       "    <tr>\n",
       "      <th>50%</th>\n",
       "      <td>39.000000</td>\n",
       "      <td>NaN</td>\n",
       "      <td>NaN</td>\n",
       "      <td>NaN</td>\n",
       "      <td>NaN</td>\n",
       "      <td>448.000000</td>\n",
       "      <td>NaN</td>\n",
       "      <td>NaN</td>\n",
       "      <td>NaN</td>\n",
       "      <td>16.000000</td>\n",
       "      <td>NaN</td>\n",
       "      <td>180.000000</td>\n",
       "      <td>2.000000</td>\n",
       "      <td>-1.000000</td>\n",
       "      <td>0.000000</td>\n",
       "      <td>NaN</td>\n",
       "      <td>NaN</td>\n",
       "    </tr>\n",
       "    <tr>\n",
       "      <th>75%</th>\n",
       "      <td>48.000000</td>\n",
       "      <td>NaN</td>\n",
       "      <td>NaN</td>\n",
       "      <td>NaN</td>\n",
       "      <td>NaN</td>\n",
       "      <td>1428.000000</td>\n",
       "      <td>NaN</td>\n",
       "      <td>NaN</td>\n",
       "      <td>NaN</td>\n",
       "      <td>21.000000</td>\n",
       "      <td>NaN</td>\n",
       "      <td>319.000000</td>\n",
       "      <td>3.000000</td>\n",
       "      <td>-1.000000</td>\n",
       "      <td>0.000000</td>\n",
       "      <td>NaN</td>\n",
       "      <td>NaN</td>\n",
       "    </tr>\n",
       "    <tr>\n",
       "      <th>max</th>\n",
       "      <td>95.000000</td>\n",
       "      <td>NaN</td>\n",
       "      <td>NaN</td>\n",
       "      <td>NaN</td>\n",
       "      <td>NaN</td>\n",
       "      <td>102127.000000</td>\n",
       "      <td>NaN</td>\n",
       "      <td>NaN</td>\n",
       "      <td>NaN</td>\n",
       "      <td>31.000000</td>\n",
       "      <td>NaN</td>\n",
       "      <td>4918.000000</td>\n",
       "      <td>63.000000</td>\n",
       "      <td>871.000000</td>\n",
       "      <td>275.000000</td>\n",
       "      <td>NaN</td>\n",
       "      <td>NaN</td>\n",
       "    </tr>\n",
       "  </tbody>\n",
       "</table>\n",
       "</div>"
      ],
      "text/plain": [
       "                 age          job  marital  education default        balance  \\\n",
       "count   45211.000000        45211    45211      45211   45211   45211.000000   \n",
       "unique           NaN           12        3          4       2            NaN   \n",
       "top              NaN  blue-collar  married  secondary      no            NaN   \n",
       "freq             NaN         9732    27214      23202   44396            NaN   \n",
       "mean       40.936210          NaN      NaN        NaN     NaN    1362.272058   \n",
       "std        10.618762          NaN      NaN        NaN     NaN    3044.765829   \n",
       "min        18.000000          NaN      NaN        NaN     NaN   -8019.000000   \n",
       "25%        33.000000          NaN      NaN        NaN     NaN      72.000000   \n",
       "50%        39.000000          NaN      NaN        NaN     NaN     448.000000   \n",
       "75%        48.000000          NaN      NaN        NaN     NaN    1428.000000   \n",
       "max        95.000000          NaN      NaN        NaN     NaN  102127.000000   \n",
       "\n",
       "       housing   loan   contact           day  month      duration  \\\n",
       "count    45211  45211     45211  45211.000000  45211  45211.000000   \n",
       "unique       2      2         3           NaN     12           NaN   \n",
       "top        yes     no  cellular           NaN    may           NaN   \n",
       "freq     25130  37967     29285           NaN  13766           NaN   \n",
       "mean       NaN    NaN       NaN     15.806419    NaN    258.163080   \n",
       "std        NaN    NaN       NaN      8.322476    NaN    257.527812   \n",
       "min        NaN    NaN       NaN      1.000000    NaN      0.000000   \n",
       "25%        NaN    NaN       NaN      8.000000    NaN    103.000000   \n",
       "50%        NaN    NaN       NaN     16.000000    NaN    180.000000   \n",
       "75%        NaN    NaN       NaN     21.000000    NaN    319.000000   \n",
       "max        NaN    NaN       NaN     31.000000    NaN   4918.000000   \n",
       "\n",
       "            campaign         pdays      previous poutcome      y  \n",
       "count   45211.000000  45211.000000  45211.000000    45211  45211  \n",
       "unique           NaN           NaN           NaN        4      2  \n",
       "top              NaN           NaN           NaN  unknown     no  \n",
       "freq             NaN           NaN           NaN    36959  39922  \n",
       "mean        2.763841     40.197828      0.580323      NaN    NaN  \n",
       "std         3.098021    100.128746      2.303441      NaN    NaN  \n",
       "min         1.000000     -1.000000      0.000000      NaN    NaN  \n",
       "25%         1.000000     -1.000000      0.000000      NaN    NaN  \n",
       "50%         2.000000     -1.000000      0.000000      NaN    NaN  \n",
       "75%         3.000000     -1.000000      0.000000      NaN    NaN  \n",
       "max        63.000000    871.000000    275.000000      NaN    NaN  "
      ]
     },
     "execution_count": 8,
     "metadata": {},
     "output_type": "execute_result"
    }
   ],
   "source": [
    "bank.describe(include=\"all\")"
   ]
  },
  {
   "cell_type": "code",
   "execution_count": 9,
   "metadata": {},
   "outputs": [
    {
     "data": {
      "text/plain": [
       "(45211, 17)"
      ]
     },
     "execution_count": 9,
     "metadata": {},
     "output_type": "execute_result"
    }
   ],
   "source": [
    "bank.shape"
   ]
  },
  {
   "cell_type": "code",
   "execution_count": 10,
   "metadata": {},
   "outputs": [
    {
     "data": {
      "text/plain": [
       "pandas.core.frame.DataFrame"
      ]
     },
     "execution_count": 10,
     "metadata": {},
     "output_type": "execute_result"
    }
   ],
   "source": [
    "type(bank)"
   ]
  },
  {
   "cell_type": "code",
   "execution_count": 11,
   "metadata": {},
   "outputs": [
    {
     "data": {
      "text/plain": [
       "age           int64\n",
       "job          object\n",
       "marital      object\n",
       "education    object\n",
       "default      object\n",
       "balance       int64\n",
       "housing      object\n",
       "loan         object\n",
       "contact      object\n",
       "day           int64\n",
       "month        object\n",
       "duration      int64\n",
       "campaign      int64\n",
       "pdays         int64\n",
       "previous      int64\n",
       "poutcome     object\n",
       "y            object\n",
       "dtype: object"
      ]
     },
     "execution_count": 11,
     "metadata": {},
     "output_type": "execute_result"
    }
   ],
   "source": [
    "bank.dtypes"
   ]
  },
  {
   "cell_type": "code",
   "execution_count": 12,
   "metadata": {},
   "outputs": [
    {
     "data": {
      "text/plain": [
       "<matplotlib.axes._subplots.AxesSubplot at 0x18e7f9340c8>"
      ]
     },
     "execution_count": 12,
     "metadata": {},
     "output_type": "execute_result"
    },
    {
     "data": {
      "image/png": "[encoded data removed]",
      "text/plain": [
       "<Figure size 1296x288 with 1 Axes>"
      ]
     },
     "metadata": {
      "needs_background": "light"
     },
     "output_type": "display_data"
    }
   ],
   "source": [
    "# checked histogram for each variable \n",
    "plt.figure(figsize=(18,4))\n",
    "bank.day.hist()"
   ]
  },
  {
   "cell_type": "code",
   "execution_count": 13,
   "metadata": {},
   "outputs": [],
   "source": [
    "# based on the histogram following variables are converted into categorical\n",
    "bank['job'] = bank['job'].astype('category')\n",
    "bank['marital'] = bank['marital'].astype('category')\n",
    "bank['education'] = bank['education'].astype('category')\n",
    "bank['default'] = bank['default'].astype('category')\n",
    "bank['housing'] = bank['housing'].astype('category')\n",
    "bank['loan'] = bank['loan'].astype('category')\n",
    "bank['contact'] = bank['contact'].astype('category')\n",
    "bank['month'] = bank['month'].astype('category')\n",
    "bank['poutcome'] = bank['poutcome'].astype('category')\n",
    "bank['y'] = bank['y'].astype('category')"
   ]
  },
  {
   "cell_type": "code",
   "execution_count": 14,
   "metadata": {},
   "outputs": [
    {
     "data": {
      "text/plain": [
       "age             int64\n",
       "job          category\n",
       "marital      category\n",
       "education    category\n",
       "default      category\n",
       "balance         int64\n",
       "housing      category\n",
       "loan         category\n",
       "contact      category\n",
       "day             int64\n",
       "month        category\n",
       "duration        int64\n",
       "campaign        int64\n",
       "pdays           int64\n",
       "previous        int64\n",
       "poutcome     category\n",
       "y            category\n",
       "dtype: object"
      ]
     },
     "execution_count": 14,
     "metadata": {},
     "output_type": "execute_result"
    }
   ],
   "source": [
    "bank.dtypes"
   ]
  },
  {
   "cell_type": "code",
   "execution_count": 15,
   "metadata": {},
   "outputs": [
    {
     "name": "stderr",
     "output_type": "stream",
     "text": [
      "C:\\ProgramData\\Anaconda3\\lib\\site-packages\\ipykernel_launcher.py:4: SettingWithCopyWarning: \n",
      "A value is trying to be set on a copy of a slice from a DataFrame\n",
      "\n",
      "See the caveats in the documentation: https://pandas.pydata.org/pandas-docs/stable/user_guide/indexing.html#returning-a-view-versus-a-copy\n",
      "  after removing the cwd from sys.path.\n",
      "C:\\ProgramData\\Anaconda3\\lib\\site-packages\\pandas\\core\\indexing.py:670: SettingWithCopyWarning: \n",
      "A value is trying to be set on a copy of a slice from a DataFrame\n",
      "\n",
      "See the caveats in the documentation: https://pandas.pydata.org/pandas-docs/stable/user_guide/indexing.html#returning-a-view-versus-a-copy\n",
      "  self._setitem_with_indexer(indexer, value)\n",
      "C:\\ProgramData\\Anaconda3\\lib\\site-packages\\ipykernel_launcher.py:7: SettingWithCopyWarning: \n",
      "A value is trying to be set on a copy of a slice from a DataFrame\n",
      "\n",
      "See the caveats in the documentation: https://pandas.pydata.org/pandas-docs/stable/user_guide/indexing.html#returning-a-view-versus-a-copy\n",
      "  import sys\n",
      "C:\\ProgramData\\Anaconda3\\lib\\site-packages\\ipykernel_launcher.py:10: SettingWithCopyWarning: \n",
      "A value is trying to be set on a copy of a slice from a DataFrame\n",
      "\n",
      "See the caveats in the documentation: https://pandas.pydata.org/pandas-docs/stable/user_guide/indexing.html#returning-a-view-versus-a-copy\n",
      "  # Remove the CWD from sys.path while we load stuff.\n",
      "C:\\ProgramData\\Anaconda3\\lib\\site-packages\\ipykernel_launcher.py:13: SettingWithCopyWarning: \n",
      "A value is trying to be set on a copy of a slice from a DataFrame\n",
      "\n",
      "See the caveats in the documentation: https://pandas.pydata.org/pandas-docs/stable/user_guide/indexing.html#returning-a-view-versus-a-copy\n",
      "  del sys.path[0]\n",
      "C:\\ProgramData\\Anaconda3\\lib\\site-packages\\ipykernel_launcher.py:15: SettingWithCopyWarning: \n",
      "A value is trying to be set on a copy of a slice from a DataFrame\n",
      "\n",
      "See the caveats in the documentation: https://pandas.pydata.org/pandas-docs/stable/user_guide/indexing.html#returning-a-view-versus-a-copy\n",
      "  from ipykernel import kernelapp as app\n"
     ]
    }
   ],
   "source": [
    "# converting day variable into categorical variable with 5 levels\n",
    "for i in range(0,45211):\n",
    "    if 0 < bank.day[i] < 8:\n",
    "        bank.day[i] = \"Week1\"\n",
    "    else:\n",
    "        if 7 < bank.day[i] < 15:\n",
    "            bank.day[i] = \"Week2\"\n",
    "        else:\n",
    "            if 14 < bank.day[i] < 22:\n",
    "                bank.day[i] = \"Week3\"\n",
    "            else:\n",
    "                if 21 < bank.day[i] < 29:\n",
    "                    bank.day[i] = \"Week4\"\n",
    "                else:\n",
    "                    bank.day[i] = \"Week5\""
   ]
  },
  {
   "cell_type": "code",
   "execution_count": 16,
   "metadata": {},
   "outputs": [],
   "source": [
    "bank['day'] = bank['day'].astype('category')"
   ]
  },
  {
   "cell_type": "code",
   "execution_count": 17,
   "metadata": {},
   "outputs": [
    {
     "data": {
      "text/plain": [
       "<matplotlib.axes._subplots.AxesSubplot at 0x18e01e9ec88>"
      ]
     },
     "execution_count": 17,
     "metadata": {},
     "output_type": "execute_result"
    },
    {
     "data": {
      "image/png": "[encoded data removed]",
      "text/plain": [
       "<Figure size 1296x288 with 1 Axes>"
      ]
     },
     "metadata": {
      "needs_background": "light"
     },
     "output_type": "display_data"
    }
   ],
   "source": [
    "plt.figure(figsize=(18,4))\n",
    "bank.day.hist()"
   ]
  },
  {
   "cell_type": "code",
   "execution_count": 18,
   "metadata": {},
   "outputs": [
    {
     "data": {
      "text/plain": [
       "age             int64\n",
       "job          category\n",
       "marital      category\n",
       "education    category\n",
       "default      category\n",
       "balance         int64\n",
       "housing      category\n",
       "loan         category\n",
       "contact      category\n",
       "day          category\n",
       "month        category\n",
       "duration        int64\n",
       "campaign        int64\n",
       "pdays           int64\n",
       "previous        int64\n",
       "poutcome     category\n",
       "y            category\n",
       "dtype: object"
      ]
     },
     "execution_count": 18,
     "metadata": {},
     "output_type": "execute_result"
    }
   ],
   "source": [
    "bank.dtypes"
   ]
  },
  {
   "cell_type": "code",
   "execution_count": 19,
   "metadata": {},
   "outputs": [
    {
     "data": {
      "text/plain": [
       "<seaborn.axisgrid.PairGrid at 0x18e01f169c8>"
      ]
     },
     "execution_count": 19,
     "metadata": {},
     "output_type": "execute_result"
    },
    {
     "data": {
      "image/png": "[encoded data removed]",
      "text/plain": [
       "<Figure size 1080x1080 with 27 Axes>"
      ]
     },
     "metadata": {
      "needs_background": "light"
     },
     "output_type": "display_data"
    }
   ],
   "source": [
    "# checking for colinearity between variables\n",
    "import seaborn as sns\n",
    "sns.pairplot(bank, corner= True)"
   ]
  },
  {
   "cell_type": "code",
   "execution_count": 20,
   "metadata": {},
   "outputs": [
    {
     "data": {
      "text/plain": [
       "<matplotlib.axes._subplots.AxesSubplot at 0x18e02c95048>"
      ]
     },
     "execution_count": 20,
     "metadata": {},
     "output_type": "execute_result"
    },
    {
     "data": {
      "image/png": "[encoded data removed]",
      "text/plain": [
       "<Figure size 1296x576 with 2 Axes>"
      ]
     },
     "metadata": {
      "needs_background": "light"
     },
     "output_type": "display_data"
    }
   ],
   "source": [
    "plt.figure(figsize=(18,8))\n",
    "sns.heatmap(bank.corr(), annot = True,fmt='.1g')"
   ]
  },
  {
   "cell_type": "markdown",
   "metadata": {},
   "source": [
    "## Creating dummy variables for categorical variables"
   ]
  },
  {
   "cell_type": "code",
   "execution_count": 21,
   "metadata": {},
   "outputs": [],
   "source": [
    "bank_dummies = pd.get_dummies(bank[[\"job\",\"marital\", \"education\", \"default\", \"housing\", \"loan\", \"contact\", \"day\", \"month\",\"poutcome\"]])"
   ]
  },
  {
   "cell_type": "code",
   "execution_count": 22,
   "metadata": {},
   "outputs": [],
   "source": [
    "bank.drop([\"job\",\"marital\", \"education\", \"default\", \"housing\", \"loan\", \"contact\", \"day\", \"month\",\"poutcome\"],inplace=True,axis = 1)"
   ]
  },
  {
   "cell_type": "code",
   "execution_count": 23,
   "metadata": {},
   "outputs": [
    {
     "data": {
      "text/plain": [
       "(45211, 7)"
      ]
     },
     "execution_count": 23,
     "metadata": {},
     "output_type": "execute_result"
    }
   ],
   "source": [
    "bank.shape"
   ]
  },
  {
   "cell_type": "code",
   "execution_count": 24,
   "metadata": {},
   "outputs": [],
   "source": [
    "bank = pd.concat([bank,bank_dummies],axis=1)"
   ]
  },
  {
   "cell_type": "code",
   "execution_count": 25,
   "metadata": {},
   "outputs": [],
   "source": [
    "# converting y variable into '0' and '1'\n",
    "bank['y'] = bank['y'].map({'yes': 1, 'no': 0})"
   ]
  },
  {
   "cell_type": "code",
   "execution_count": 26,
   "metadata": {},
   "outputs": [
    {
     "data": {
      "text/plain": [
       "0    39922\n",
       "1     5289\n",
       "Name: y, dtype: int64"
      ]
     },
     "execution_count": 26,
     "metadata": {},
     "output_type": "execute_result"
    }
   ],
   "source": [
    "bank['y'].value_counts()"
   ]
  },
  {
   "cell_type": "code",
   "execution_count": 27,
   "metadata": {},
   "outputs": [
    {
     "data": {
      "text/plain": [
       "<matplotlib.axes._subplots.AxesSubplot at 0x18e01e32448>"
      ]
     },
     "execution_count": 27,
     "metadata": {},
     "output_type": "execute_result"
    },
    {
     "data": {
      "image/png": "[encoded data removed]",
      "text/plain": [
       "<Figure size 432x288 with 1 Axes>"
      ]
     },
     "metadata": {
      "needs_background": "light"
     },
     "output_type": "display_data"
    }
   ],
   "source": [
    "sns.countplot(x='y', data=bank)"
   ]
  },
  {
   "cell_type": "code",
   "execution_count": 28,
   "metadata": {},
   "outputs": [
    {
     "data": {
      "text/plain": [
       "Index(['age', 'balance', 'duration', 'campaign', 'pdays', 'previous', 'y',\n",
       "       'job_admin.', 'job_blue-collar', 'job_entrepreneur', 'job_housemaid',\n",
       "       'job_management', 'job_retired', 'job_self-employed', 'job_services',\n",
       "       'job_student', 'job_technician', 'job_unemployed', 'job_unknown',\n",
       "       'marital_divorced', 'marital_married', 'marital_single',\n",
       "       'education_primary', 'education_secondary', 'education_tertiary',\n",
       "       'education_unknown', 'default_no', 'default_yes', 'housing_no',\n",
       "       'housing_yes', 'loan_no', 'loan_yes', 'contact_cellular',\n",
       "       'contact_telephone', 'contact_unknown', 'day_Week1', 'day_Week2',\n",
       "       'day_Week3', 'day_Week4', 'day_Week5', 'month_apr', 'month_aug',\n",
       "       'month_dec', 'month_feb', 'month_jan', 'month_jul', 'month_jun',\n",
       "       'month_mar', 'month_may', 'month_nov', 'month_oct', 'month_sep',\n",
       "       'poutcome_failure', 'poutcome_other', 'poutcome_success',\n",
       "       'poutcome_unknown'],\n",
       "      dtype='object')"
      ]
     },
     "execution_count": 28,
     "metadata": {},
     "output_type": "execute_result"
    }
   ],
   "source": [
    "bank.columns"
   ]
  },
  {
   "cell_type": "code",
   "execution_count": 29,
   "metadata": {},
   "outputs": [],
   "source": [
    "# reshaping the column sequence. making y variable at last position\n",
    "bank = bank[['age', 'balance', 'duration', 'campaign', 'pdays', 'previous', \n",
    "       'job_admin.', 'job_blue-collar', 'job_entrepreneur', 'job_housemaid',\n",
    "       'job_management', 'job_retired', 'job_self-employed', 'job_services',\n",
    "       'job_student', 'job_technician', 'job_unemployed', 'job_unknown',\n",
    "       'marital_divorced', 'marital_married', 'marital_single',\n",
    "       'education_primary', 'education_secondary', 'education_tertiary',\n",
    "       'education_unknown', 'default_no', 'default_yes', 'housing_no',\n",
    "       'housing_yes', 'loan_no', 'loan_yes', 'contact_cellular',\n",
    "       'contact_telephone', 'contact_unknown', 'day_Week1', 'day_Week2',\n",
    "       'day_Week3', 'day_Week4', 'day_Week5', 'month_apr', 'month_aug',\n",
    "       'month_dec', 'month_feb', 'month_jan', 'month_jul', 'month_jun',\n",
    "       'month_mar', 'month_may', 'month_nov', 'month_oct', 'month_sep',\n",
    "       'poutcome_failure', 'poutcome_other', 'poutcome_success',\n",
    "       'poutcome_unknown','y']]"
   ]
  },
  {
   "cell_type": "markdown",
   "metadata": {},
   "source": [
    "# Splitting Data into predictors(X) and dependent (Y)\n",
    "## Splitting into train and test with 75/25 split"
   ]
  },
  {
   "cell_type": "code",
   "execution_count": 30,
   "metadata": {},
   "outputs": [],
   "source": [
    "X = bank.iloc[:,:-1]\n",
    "Y = bank.iloc[:,-1]"
   ]
  },
  {
   "cell_type": "code",
   "execution_count": 31,
   "metadata": {},
   "outputs": [],
   "source": [
    "from sklearn.model_selection import train_test_split\n",
    "X_train, X_test, Y_train, Y_test = train_test_split( X,Y, test_size=0.25, random_state=1)"
   ]
  },
  {
   "cell_type": "markdown",
   "metadata": {},
   "source": [
    "# Building model 1 by sklearn.linear_model (LogisticRegression)"
   ]
  },
  {
   "cell_type": "code",
   "execution_count": 32,
   "metadata": {},
   "outputs": [],
   "source": [
    "from sklearn.linear_model import LogisticRegression"
   ]
  },
  {
   "cell_type": "code",
   "execution_count": 33,
   "metadata": {},
   "outputs": [
    {
     "name": "stderr",
     "output_type": "stream",
     "text": [
      "C:\\ProgramData\\Anaconda3\\lib\\site-packages\\sklearn\\linear_model\\_logistic.py:940: ConvergenceWarning: lbfgs failed to converge (status=1):\n",
      "STOP: TOTAL NO. of ITERATIONS REACHED LIMIT.\n",
      "\n",
      "Increase the number of iterations (max_iter) or scale the data as shown in:\n",
      "    https://scikit-learn.org/stable/modules/preprocessing.html\n",
      "Please also refer to the documentation for alternative solver options:\n",
      "    https://scikit-learn.org/stable/modules/linear_model.html#logistic-regression\n",
      "  extra_warning_msg=_LOGISTIC_SOLVER_CONVERGENCE_MSG)\n"
     ]
    },
    {
     "data": {
      "text/plain": [
       "LogisticRegression(C=1.0, class_weight=None, dual=False, fit_intercept=True,\n",
       "                   intercept_scaling=1, l1_ratio=None, max_iter=100,\n",
       "                   multi_class='auto', n_jobs=None, penalty='l2',\n",
       "                   random_state=None, solver='lbfgs', tol=0.0001, verbose=0,\n",
       "                   warm_start=False)"
      ]
     },
     "execution_count": 33,
     "metadata": {},
     "output_type": "execute_result"
    }
   ],
   "source": [
    "model1 = LogisticRegression()\n",
    "model1.fit(X_train,Y_train)"
   ]
  },
  {
   "cell_type": "markdown",
   "metadata": {},
   "source": [
    "## Predicting test output y"
   ]
  },
  {
   "cell_type": "code",
   "execution_count": 34,
   "metadata": {},
   "outputs": [],
   "source": [
    "y_pred = model1.predict(X_test)"
   ]
  },
  {
   "cell_type": "markdown",
   "metadata": {},
   "source": [
    "## Checking model 1 aaccuracy"
   ]
  },
  {
   "cell_type": "code",
   "execution_count": 35,
   "metadata": {},
   "outputs": [
    {
     "name": "stdout",
     "output_type": "stream",
     "text": [
      "Accuracy 0.8929487746615943\n"
     ]
    }
   ],
   "source": [
    "print(\"Accuracy\",(model1.score(X_test,Y_test)))"
   ]
  },
  {
   "cell_type": "code",
   "execution_count": 36,
   "metadata": {},
   "outputs": [
    {
     "data": {
      "text/plain": [
       "array([[9778,  220],\n",
       "       [ 990,  315]], dtype=int64)"
      ]
     },
     "execution_count": 36,
     "metadata": {},
     "output_type": "execute_result"
    }
   ],
   "source": [
    "from sklearn.metrics import confusion_matrix\n",
    "confusion_matrix = confusion_matrix(Y_test,y_pred)\n",
    "confusion_matrix"
   ]
  },
  {
   "cell_type": "markdown",
   "metadata": {},
   "source": [
    "# Building model 2 by statsmodels.api (Logit)"
   ]
  },
  {
   "cell_type": "code",
   "execution_count": 37,
   "metadata": {},
   "outputs": [],
   "source": [
    "import statsmodels.api as sm "
   ]
  },
  {
   "cell_type": "code",
   "execution_count": 38,
   "metadata": {},
   "outputs": [
    {
     "name": "stdout",
     "output_type": "stream",
     "text": [
      "Optimization terminated successfully.\n",
      "         Current function value: 0.238065\n",
      "         Iterations 8\n"
     ]
    }
   ],
   "source": [
    "Logit = sm.Logit(Y_train,X_train).fit()"
   ]
  },
  {
   "cell_type": "code",
   "execution_count": 39,
   "metadata": {
    "scrolled": true
   },
   "outputs": [
    {
     "name": "stderr",
     "output_type": "stream",
     "text": [
      "C:\\ProgramData\\Anaconda3\\lib\\site-packages\\statsmodels\\base\\model.py:1354: RuntimeWarning: invalid value encountered in sqrt\n",
      "  bse_ = np.sqrt(np.diag(self.cov_params()))\n",
      "C:\\ProgramData\\Anaconda3\\lib\\site-packages\\scipy\\stats\\_distn_infrastructure.py:903: RuntimeWarning: invalid value encountered in greater\n",
      "  return (a < x) & (x < b)\n",
      "C:\\ProgramData\\Anaconda3\\lib\\site-packages\\scipy\\stats\\_distn_infrastructure.py:903: RuntimeWarning: invalid value encountered in less\n",
      "  return (a < x) & (x < b)\n",
      "C:\\ProgramData\\Anaconda3\\lib\\site-packages\\scipy\\stats\\_distn_infrastructure.py:1912: RuntimeWarning: invalid value encountered in less_equal\n",
      "  cond2 = cond0 & (x <= _a)\n"
     ]
    },
    {
     "data": {
      "text/html": [
       "<table class=\"simpletable\">\n",
       "<tr>\n",
       "        <td>Model:</td>              <td>Logit</td>      <td>Pseudo R-squared:</td>    <td>0.342</td>  \n",
       "</tr>\n",
       "<tr>\n",
       "  <td>Dependent Variable:</td>         <td>y</td>              <td>AIC:</td>        <td>16236.6007</td>\n",
       "</tr>\n",
       "<tr>\n",
       "         <td>Date:</td>        <td>2020-06-18 01:10</td>       <td>BIC:</td>        <td>16624.4454</td>\n",
       "</tr>\n",
       "<tr>\n",
       "   <td>No. Observations:</td>        <td>33908</td>       <td>Log-Likelihood:</td>    <td>-8072.3</td> \n",
       "</tr>\n",
       "<tr>\n",
       "       <td>Df Model:</td>             <td>45</td>            <td>LL-Null:</td>        <td>-12271.</td> \n",
       "</tr>\n",
       "<tr>\n",
       "     <td>Df Residuals:</td>          <td>33862</td>        <td>LLR p-value:</td>      <td>0.0000</td>  \n",
       "</tr>\n",
       "<tr>\n",
       "      <td>Converged:</td>           <td>1.0000</td>           <td>Scale:</td>         <td>1.0000</td>  \n",
       "</tr>\n",
       "<tr>\n",
       "    <td>No. Iterations:</td>        <td>8.0000</td>              <td></td>               <td></td>     \n",
       "</tr>\n",
       "</table>\n",
       "<table class=\"simpletable\">\n",
       "<tr>\n",
       "           <td></td>            <th>Coef.</th>    <th>Std.Err.</th>      <th>z</th>     <th>P>|z|</th>    <th>[0.025</th>        <th>0.975]</th>   \n",
       "</tr>\n",
       "<tr>\n",
       "  <th>age</th>                 <td>-0.0005</td>    <td>0.0025</td>    <td>-0.1877</td> <td>0.8511</td>    <td>-0.0055</td>       <td>0.0045</td>   \n",
       "</tr>\n",
       "<tr>\n",
       "  <th>balance</th>             <td>0.0000</td>     <td>0.0000</td>    <td>2.8996</td>  <td>0.0037</td>    <td>0.0000</td>        <td>0.0000</td>   \n",
       "</tr>\n",
       "<tr>\n",
       "  <th>duration</th>            <td>0.0043</td>     <td>0.0001</td>    <td>56.9312</td> <td>0.0000</td>    <td>0.0041</td>        <td>0.0044</td>   \n",
       "</tr>\n",
       "<tr>\n",
       "  <th>campaign</th>            <td>-0.0880</td>    <td>0.0116</td>    <td>-7.6084</td> <td>0.0000</td>    <td>-0.1107</td>       <td>-0.0654</td>  \n",
       "</tr>\n",
       "<tr>\n",
       "  <th>pdays</th>               <td>-0.0001</td>    <td>0.0004</td>    <td>-0.2373</td> <td>0.8124</td>    <td>-0.0008</td>       <td>0.0006</td>   \n",
       "</tr>\n",
       "<tr>\n",
       "  <th>previous</th>            <td>0.0208</td>     <td>0.0121</td>    <td>1.7191</td>  <td>0.0856</td>    <td>-0.0029</td>       <td>0.0446</td>   \n",
       "</tr>\n",
       "<tr>\n",
       "  <th>job_admin.</th>          <td>0.1071</td>       <td>nan</td>       <td>nan</td>     <td>nan</td>       <td>nan</td>           <td>nan</td>    \n",
       "</tr>\n",
       "<tr>\n",
       "  <th>job_blue-collar</th>     <td>-0.2029</td>      <td>nan</td>       <td>nan</td>     <td>nan</td>       <td>nan</td>           <td>nan</td>    \n",
       "</tr>\n",
       "<tr>\n",
       "  <th>job_entrepreneur</th>    <td>-0.3347</td>      <td>nan</td>       <td>nan</td>     <td>nan</td>       <td>nan</td>           <td>nan</td>    \n",
       "</tr>\n",
       "<tr>\n",
       "  <th>job_housemaid</th>       <td>-0.4260</td>      <td>nan</td>       <td>nan</td>     <td>nan</td>       <td>nan</td>           <td>nan</td>    \n",
       "</tr>\n",
       "<tr>\n",
       "  <th>job_management</th>      <td>-0.0727</td>      <td>nan</td>       <td>nan</td>     <td>nan</td>       <td>nan</td>           <td>nan</td>    \n",
       "</tr>\n",
       "<tr>\n",
       "  <th>job_retired</th>         <td>0.3666</td>       <td>nan</td>       <td>nan</td>     <td>nan</td>       <td>nan</td>           <td>nan</td>    \n",
       "</tr>\n",
       "<tr>\n",
       "  <th>job_self-employed</th>   <td>-0.2337</td>      <td>nan</td>       <td>nan</td>     <td>nan</td>       <td>nan</td>           <td>nan</td>    \n",
       "</tr>\n",
       "<tr>\n",
       "  <th>job_services</th>        <td>-0.1062</td>      <td>nan</td>       <td>nan</td>     <td>nan</td>       <td>nan</td>           <td>nan</td>    \n",
       "</tr>\n",
       "<tr>\n",
       "  <th>job_student</th>         <td>0.4898</td>       <td>nan</td>       <td>nan</td>     <td>nan</td>       <td>nan</td>           <td>nan</td>    \n",
       "</tr>\n",
       "<tr>\n",
       "  <th>job_technician</th>      <td>-0.0812</td>      <td>nan</td>       <td>nan</td>     <td>nan</td>       <td>nan</td>           <td>nan</td>    \n",
       "</tr>\n",
       "<tr>\n",
       "  <th>job_unemployed</th>      <td>-0.2245</td>      <td>nan</td>       <td>nan</td>     <td>nan</td>       <td>nan</td>           <td>nan</td>    \n",
       "</tr>\n",
       "<tr>\n",
       "  <th>job_unknown</th>         <td>-0.2108</td>      <td>nan</td>       <td>nan</td>     <td>nan</td>       <td>nan</td>           <td>nan</td>    \n",
       "</tr>\n",
       "<tr>\n",
       "  <th>marital_divorced</th>    <td>-0.3162</td>      <td>nan</td>       <td>nan</td>     <td>nan</td>       <td>nan</td>           <td>nan</td>    \n",
       "</tr>\n",
       "<tr>\n",
       "  <th>marital_married</th>     <td>-0.4704</td>  <td>513440.6527</td> <td>-0.0000</td> <td>1.0000</td> <td>-1006325.6579</td> <td>1006324.7170</td>\n",
       "</tr>\n",
       "<tr>\n",
       "  <th>marital_single</th>      <td>-0.2041</td>      <td>nan</td>       <td>nan</td>     <td>nan</td>       <td>nan</td>           <td>nan</td>    \n",
       "</tr>\n",
       "<tr>\n",
       "  <th>education_primary</th>   <td>-0.4052</td>  <td>535436.5261</td> <td>-0.0000</td> <td>1.0000</td> <td>-1049436.7124</td> <td>1049435.9020</td>\n",
       "</tr>\n",
       "<tr>\n",
       "  <th>education_secondary</th> <td>-0.2023</td>  <td>537312.6190</td> <td>-0.0000</td> <td>1.0000</td> <td>-1053113.5839</td> <td>1053113.1793</td>\n",
       "</tr>\n",
       "<tr>\n",
       "  <th>education_tertiary</th>  <td>-0.0192</td>  <td>564982.6853</td> <td>-0.0000</td> <td>1.0000</td> <td>-1107345.7342</td> <td>1107345.6959</td>\n",
       "</tr>\n",
       "<tr>\n",
       "  <th>education_unknown</th>   <td>-0.1542</td>  <td>559698.8897</td> <td>-0.0000</td> <td>1.0000</td> <td>-1096989.8203</td> <td>1096989.5119</td>\n",
       "</tr>\n",
       "<tr>\n",
       "  <th>default_no</th>          <td>-0.3531</td>      <td>nan</td>       <td>nan</td>     <td>nan</td>       <td>nan</td>           <td>nan</td>    \n",
       "</tr>\n",
       "<tr>\n",
       "  <th>default_yes</th>         <td>-0.5801</td>      <td>nan</td>       <td>nan</td>     <td>nan</td>       <td>nan</td>           <td>nan</td>    \n",
       "</tr>\n",
       "<tr>\n",
       "  <th>housing_no</th>          <td>-0.3161</td>      <td>nan</td>       <td>nan</td>     <td>nan</td>       <td>nan</td>           <td>nan</td>    \n",
       "</tr>\n",
       "<tr>\n",
       "  <th>housing_yes</th>         <td>-0.9682</td>      <td>nan</td>       <td>nan</td>     <td>nan</td>       <td>nan</td>           <td>nan</td>    \n",
       "</tr>\n",
       "<tr>\n",
       "  <th>loan_no</th>             <td>-0.2425</td>      <td>nan</td>       <td>nan</td>     <td>nan</td>       <td>nan</td>           <td>nan</td>    \n",
       "</tr>\n",
       "<tr>\n",
       "  <th>loan_yes</th>            <td>-0.6466</td>      <td>nan</td>       <td>nan</td>     <td>nan</td>       <td>nan</td>           <td>nan</td>    \n",
       "</tr>\n",
       "<tr>\n",
       "  <th>contact_cellular</th>    <td>0.2605</td>       <td>nan</td>       <td>nan</td>     <td>nan</td>       <td>nan</td>           <td>nan</td>    \n",
       "</tr>\n",
       "<tr>\n",
       "  <th>contact_telephone</th>   <td>0.1052</td>       <td>nan</td>       <td>nan</td>     <td>nan</td>       <td>nan</td>           <td>nan</td>    \n",
       "</tr>\n",
       "<tr>\n",
       "  <th>contact_unknown</th>     <td>-1.3609</td>      <td>nan</td>       <td>nan</td>     <td>nan</td>       <td>nan</td>           <td>nan</td>    \n",
       "</tr>\n",
       "<tr>\n",
       "  <th>day_Week1</th>           <td>-0.3978</td> <td>1698083.7725</td> <td>-0.0000</td> <td>1.0000</td> <td>-3328183.4347</td> <td>3328182.6390</td>\n",
       "</tr>\n",
       "<tr>\n",
       "  <th>day_Week2</th>           <td>-0.0954</td> <td>1698692.9857</td> <td>-0.0000</td> <td>1.0000</td> <td>-3329377.1682</td> <td>3329376.9773</td>\n",
       "</tr>\n",
       "<tr>\n",
       "  <th>day_Week3</th>           <td>-0.4366</td> <td>1711168.2702</td> <td>-0.0000</td> <td>1.0000</td> <td>-3353828.6176</td> <td>3353827.7445</td>\n",
       "</tr>\n",
       "<tr>\n",
       "  <th>day_Week4</th>           <td>-0.0177</td> <td>1696729.8493</td> <td>-0.0000</td> <td>1.0000</td> <td>-3325529.4137</td> <td>3325529.3783</td>\n",
       "</tr>\n",
       "<tr>\n",
       "  <th>day_Week5</th>           <td>-0.0476</td> <td>1712539.5949</td> <td>-0.0000</td> <td>1.0000</td> <td>-3356515.9756</td> <td>3356515.8805</td>\n",
       "</tr>\n",
       "<tr>\n",
       "  <th>month_apr</th>           <td>-0.0827</td> <td>2643250.3325</td> <td>-0.0000</td> <td>1.0000</td> <td>-5180675.5366</td> <td>5180675.3712</td>\n",
       "</tr>\n",
       "<tr>\n",
       "  <th>month_aug</th>           <td>-0.8505</td> <td>2657112.7740</td> <td>-0.0000</td> <td>1.0000</td> <td>-5207846.1903</td> <td>5207844.4894</td>\n",
       "</tr>\n",
       "<tr>\n",
       "  <th>month_dec</th>           <td>0.5766</td>  <td>2649572.1437</td> <td>0.0000</td>  <td>1.0000</td> <td>-5193065.3995</td> <td>5193066.5526</td>\n",
       "</tr>\n",
       "<tr>\n",
       "  <th>month_feb</th>           <td>-0.2812</td> <td>2649572.1437</td> <td>-0.0000</td> <td>1.0000</td> <td>-5193066.2573</td> <td>5193065.6949</td>\n",
       "</tr>\n",
       "<tr>\n",
       "  <th>month_jan</th>           <td>-1.4274</td> <td>2629444.6081</td> <td>-0.0000</td> <td>1.0000</td> <td>-5153618.1586</td> <td>5153615.3039</td>\n",
       "</tr>\n",
       "<tr>\n",
       "  <th>month_jul</th>           <td>-1.0056</td> <td>2643250.3325</td> <td>-0.0000</td> <td>1.0000</td> <td>-5180676.4594</td> <td>5180674.4483</td>\n",
       "</tr>\n",
       "<tr>\n",
       "  <th>month_jun</th>           <td>0.4387</td>  <td>2643379.4507</td> <td>0.0000</td>  <td>1.0000</td> <td>-5180928.0822</td> <td>5180928.9595</td>\n",
       "</tr>\n",
       "<tr>\n",
       "  <th>month_mar</th>           <td>1.3957</td>  <td>2639527.5611</td> <td>0.0000</td>  <td>1.0000</td> <td>-5173377.5603</td> <td>5173380.3516</td>\n",
       "</tr>\n",
       "<tr>\n",
       "  <th>month_may</th>           <td>-0.5612</td> <td>2649572.1437</td> <td>-0.0000</td> <td>1.0000</td> <td>-5193066.5372</td> <td>5193065.4149</td>\n",
       "</tr>\n",
       "<tr>\n",
       "  <th>month_nov</th>           <td>-0.7957</td> <td>2653280.8218</td> <td>-0.0000</td> <td>1.0000</td> <td>-5200335.6472</td> <td>5200334.0558</td>\n",
       "</tr>\n",
       "<tr>\n",
       "  <th>month_oct</th>           <td>0.8402</td>  <td>2639527.5611</td> <td>0.0000</td>  <td>1.0000</td> <td>-5173378.1158</td> <td>5173379.7962</td>\n",
       "</tr>\n",
       "<tr>\n",
       "  <th>month_sep</th>           <td>0.7579</td>  <td>2659578.7906</td> <td>0.0000</td>  <td>1.0000</td> <td>-5212677.8857</td> <td>5212679.4015</td>\n",
       "</tr>\n",
       "<tr>\n",
       "  <th>poutcome_failure</th>    <td>-0.7992</td>      <td>nan</td>       <td>nan</td>     <td>nan</td>       <td>nan</td>           <td>nan</td>    \n",
       "</tr>\n",
       "<tr>\n",
       "  <th>poutcome_other</th>      <td>-0.7146</td>      <td>nan</td>       <td>nan</td>     <td>nan</td>       <td>nan</td>           <td>nan</td>    \n",
       "</tr>\n",
       "<tr>\n",
       "  <th>poutcome_success</th>    <td>1.3961</td>       <td>nan</td>       <td>nan</td>     <td>nan</td>       <td>nan</td>           <td>nan</td>    \n",
       "</tr>\n",
       "<tr>\n",
       "  <th>poutcome_unknown</th>    <td>-0.8775</td>      <td>nan</td>       <td>nan</td>     <td>nan</td>       <td>nan</td>           <td>nan</td>    \n",
       "</tr>\n",
       "</table>"
      ],
      "text/plain": [
       "<class 'statsmodels.iolib.summary2.Summary'>\n",
       "\"\"\"\n",
       "                                  Results: Logit\n",
       "==================================================================================\n",
       "Model:                     Logit                 Pseudo R-squared:      0.342     \n",
       "Dependent Variable:        y                     AIC:                   16236.6007\n",
       "Date:                      2020-06-18 01:10      BIC:                   16624.4454\n",
       "No. Observations:          33908                 Log-Likelihood:        -8072.3   \n",
       "Df Model:                  45                    LL-Null:               -12271.   \n",
       "Df Residuals:              33862                 LLR p-value:           0.0000    \n",
       "Converged:                 1.0000                Scale:                 1.0000    \n",
       "No. Iterations:            8.0000                                                 \n",
       "----------------------------------------------------------------------------------\n",
       "                     Coef.    Std.Err.      z    P>|z|      [0.025       0.975]   \n",
       "----------------------------------------------------------------------------------\n",
       "age                 -0.0005       0.0025 -0.1877 0.8511       -0.0055       0.0045\n",
       "balance              0.0000       0.0000  2.8996 0.0037        0.0000       0.0000\n",
       "duration             0.0043       0.0001 56.9312 0.0000        0.0041       0.0044\n",
       "campaign            -0.0880       0.0116 -7.6084 0.0000       -0.1107      -0.0654\n",
       "pdays               -0.0001       0.0004 -0.2373 0.8124       -0.0008       0.0006\n",
       "previous             0.0208       0.0121  1.7191 0.0856       -0.0029       0.0446\n",
       "job_admin.           0.1071          nan     nan    nan           nan          nan\n",
       "job_blue-collar     -0.2029          nan     nan    nan           nan          nan\n",
       "job_entrepreneur    -0.3347          nan     nan    nan           nan          nan\n",
       "job_housemaid       -0.4260          nan     nan    nan           nan          nan\n",
       "job_management      -0.0727          nan     nan    nan           nan          nan\n",
       "job_retired          0.3666          nan     nan    nan           nan          nan\n",
       "job_self-employed   -0.2337          nan     nan    nan           nan          nan\n",
       "job_services        -0.1062          nan     nan    nan           nan          nan\n",
       "job_student          0.4898          nan     nan    nan           nan          nan\n",
       "job_technician      -0.0812          nan     nan    nan           nan          nan\n",
       "job_unemployed      -0.2245          nan     nan    nan           nan          nan\n",
       "job_unknown         -0.2108          nan     nan    nan           nan          nan\n",
       "marital_divorced    -0.3162          nan     nan    nan           nan          nan\n",
       "marital_married     -0.4704  513440.6527 -0.0000 1.0000 -1006325.6579 1006324.7170\n",
       "marital_single      -0.2041          nan     nan    nan           nan          nan\n",
       "education_primary   -0.4052  535436.5261 -0.0000 1.0000 -1049436.7124 1049435.9020\n",
       "education_secondary -0.2023  537312.6190 -0.0000 1.0000 -1053113.5839 1053113.1793\n",
       "education_tertiary  -0.0192  564982.6853 -0.0000 1.0000 -1107345.7342 1107345.6959\n",
       "education_unknown   -0.1542  559698.8897 -0.0000 1.0000 -1096989.8203 1096989.5119\n",
       "default_no          -0.3531          nan     nan    nan           nan          nan\n",
       "default_yes         -0.5801          nan     nan    nan           nan          nan\n",
       "housing_no          -0.3161          nan     nan    nan           nan          nan\n",
       "housing_yes         -0.9682          nan     nan    nan           nan          nan\n",
       "loan_no             -0.2425          nan     nan    nan           nan          nan\n",
       "loan_yes            -0.6466          nan     nan    nan           nan          nan\n",
       "contact_cellular     0.2605          nan     nan    nan           nan          nan\n",
       "contact_telephone    0.1052          nan     nan    nan           nan          nan\n",
       "contact_unknown     -1.3609          nan     nan    nan           nan          nan\n",
       "day_Week1           -0.3978 1698083.7725 -0.0000 1.0000 -3328183.4347 3328182.6390\n",
       "day_Week2           -0.0954 1698692.9857 -0.0000 1.0000 -3329377.1682 3329376.9773\n",
       "day_Week3           -0.4366 1711168.2702 -0.0000 1.0000 -3353828.6176 3353827.7445\n",
       "day_Week4           -0.0177 1696729.8493 -0.0000 1.0000 -3325529.4137 3325529.3783\n",
       "day_Week5           -0.0476 1712539.5949 -0.0000 1.0000 -3356515.9756 3356515.8805\n",
       "month_apr           -0.0827 2643250.3325 -0.0000 1.0000 -5180675.5366 5180675.3712\n",
       "month_aug           -0.8505 2657112.7740 -0.0000 1.0000 -5207846.1903 5207844.4894\n",
       "month_dec            0.5766 2649572.1437  0.0000 1.0000 -5193065.3995 5193066.5526\n",
       "month_feb           -0.2812 2649572.1437 -0.0000 1.0000 -5193066.2573 5193065.6949\n",
       "month_jan           -1.4274 2629444.6081 -0.0000 1.0000 -5153618.1586 5153615.3039\n",
       "month_jul           -1.0056 2643250.3325 -0.0000 1.0000 -5180676.4594 5180674.4483\n",
       "month_jun            0.4387 2643379.4507  0.0000 1.0000 -5180928.0822 5180928.9595\n",
       "month_mar            1.3957 2639527.5611  0.0000 1.0000 -5173377.5603 5173380.3516\n",
       "month_may           -0.5612 2649572.1437 -0.0000 1.0000 -5193066.5372 5193065.4149\n",
       "month_nov           -0.7957 2653280.8218 -0.0000 1.0000 -5200335.6472 5200334.0558\n",
       "month_oct            0.8402 2639527.5611  0.0000 1.0000 -5173378.1158 5173379.7962\n",
       "month_sep            0.7579 2659578.7906  0.0000 1.0000 -5212677.8857 5212679.4015\n",
       "poutcome_failure    -0.7992          nan     nan    nan           nan          nan\n",
       "poutcome_other      -0.7146          nan     nan    nan           nan          nan\n",
       "poutcome_success     1.3961          nan     nan    nan           nan          nan\n",
       "poutcome_unknown    -0.8775          nan     nan    nan           nan          nan\n",
       "==================================================================================\n",
       "\n",
       "\"\"\""
      ]
     },
     "execution_count": 39,
     "metadata": {},
     "output_type": "execute_result"
    }
   ],
   "source": [
    "Logit.summary2()"
   ]
  },
  {
   "cell_type": "markdown",
   "metadata": {},
   "source": [
    "## Predicting test output y"
   ]
  },
  {
   "cell_type": "code",
   "execution_count": 40,
   "metadata": {},
   "outputs": [],
   "source": [
    "Pred2 = Logit.predict(X_test)\n",
    "Pred2 = pd.DataFrame(Pred2)\n",
    "Pred2 = Pred2.reset_index(drop=True)\n",
    "Pred2.columns = ['y']"
   ]
  },
  {
   "cell_type": "code",
   "execution_count": 41,
   "metadata": {},
   "outputs": [],
   "source": [
    "for i in range(0,11303):\n",
    "    if Pred2.loc[i,'y'] < 0.5 :\n",
    "        Pred2.loc[i,'y'] = 0\n",
    "    else:\n",
    "        Pred2.loc[i,'y'] = 1"
   ]
  },
  {
   "cell_type": "markdown",
   "metadata": {},
   "source": [
    "## Checking model 2 aaccuracy"
   ]
  },
  {
   "cell_type": "code",
   "execution_count": 42,
   "metadata": {},
   "outputs": [],
   "source": [
    "Y_test = pd.DataFrame(Y_test)\n",
    "Y_test = Y_test.reset_index(drop=True)"
   ]
  },
  {
   "cell_type": "code",
   "execution_count": 43,
   "metadata": {},
   "outputs": [
    {
     "data": {
      "text/plain": [
       "array([[9738,  260],\n",
       "       [ 849,  456]], dtype=int64)"
      ]
     },
     "execution_count": 43,
     "metadata": {},
     "output_type": "execute_result"
    }
   ],
   "source": [
    "from sklearn.metrics import confusion_matrix\n",
    "confusion_matrix2 = confusion_matrix(Y_test,Pred2)\n",
    "confusion_matrix2"
   ]
  },
  {
   "cell_type": "code",
   "execution_count": 44,
   "metadata": {},
   "outputs": [
    {
     "data": {
      "text/plain": [
       "0.9018844554543042"
      ]
     },
     "execution_count": 44,
     "metadata": {},
     "output_type": "execute_result"
    }
   ],
   "source": [
    "accuracy = sum(Y_test['y']==Pred2['y'])/Y_test.shape[0]\n",
    "accuracy"
   ]
  },
  {
   "cell_type": "code",
   "execution_count": null,
   "metadata": {},
   "outputs": [],
   "source": []
  }
 ],
 "metadata": {
  "kernelspec": {
   "display_name": "Python 3",
   "language": "python",
   "name": "python3"
  },
  "language_info": {
   "codemirror_mode": {
    "name": "ipython",
    "version": 3
   },
   "file_extension": ".py",
   "mimetype": "text/x-python",
   "name": "python",
   "nbconvert_exporter": "python",
   "pygments_lexer": "ipython3",
   "version": "3.7.6"
  },
  "toc": {
   "base_numbering": 1,
   "nav_menu": {},
   "number_sections": true,
   "sideBar": true,
   "skip_h1_title": false,
   "title_cell": "Table of Contents",
   "title_sidebar": "Contents",
   "toc_cell": false,
   "toc_position": {},
   "toc_section_display": true,
   "toc_window_display": true
  }
 },
 "nbformat": 4,
 "nbformat_minor": 4
}
